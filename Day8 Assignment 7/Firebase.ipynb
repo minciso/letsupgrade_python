{
 "cells": [
  {
   "cell_type": "markdown",
   "metadata": {},
   "source": [
    "# Question 1\n",
    "#### Read and write to a real time database to a server using firebase and upload it in Github."
   ]
  },
  {
   "cell_type": "code",
   "execution_count": 1,
   "metadata": {},
   "outputs": [
    {
     "name": "stdout",
     "output_type": "stream",
     "text": [
      "Collecting firebase\n",
      "  Downloading firebase-3.0.1-py3-none-any.whl (18 kB)\n",
      "Requirement already satisfied: requests in e:\\anaconda3\\lib\\site-packages (from firebase) (2.24.0)\n",
      "Requirement already satisfied: chardet<4,>=3.0.2 in e:\\anaconda3\\lib\\site-packages (from requests->firebase) (3.0.4)\n",
      "Requirement already satisfied: idna<3,>=2.5 in e:\\anaconda3\\lib\\site-packages (from requests->firebase) (2.10)\n",
      "Requirement already satisfied: urllib3!=1.25.0,!=1.25.1,<1.26,>=1.21.1 in e:\\anaconda3\\lib\\site-packages (from requests->firebase) (1.25.11)\n",
      "Requirement already satisfied: certifi>=2017.4.17 in e:\\anaconda3\\lib\\site-packages (from requests->firebase) (2020.6.20)\n",
      "Installing collected packages: firebase\n",
      "Successfully installed firebase-3.0.1\n"
     ]
    }
   ],
   "source": [
    "#Step 1\n",
    "!pip install firebase"
   ]
  },
  {
   "cell_type": "code",
   "execution_count": 8,
   "metadata": {},
   "outputs": [
    {
     "name": "stdout",
     "output_type": "stream",
     "text": [
      "Requirement already satisfied: firebase-admin in e:\\anaconda3\\lib\\site-packages (4.5.0)\n",
      "Requirement already satisfied: google-cloud-firestore>=1.4.0; platform_python_implementation != \"PyPy\" in e:\\anaconda3\\lib\\site-packages (from firebase-admin) (2.0.2)\n",
      "Requirement already satisfied: google-cloud-storage>=1.18.0 in e:\\anaconda3\\lib\\site-packages (from firebase-admin) (1.35.0)\n",
      "Requirement already satisfied: cachecontrol>=0.12.6 in e:\\anaconda3\\lib\\site-packages (from firebase-admin) (0.12.6)\n",
      "Requirement already satisfied: google-api-core[grpc]<2.0.0dev,>=1.14.0; platform_python_implementation != \"PyPy\" in e:\\anaconda3\\lib\\site-packages (from firebase-admin) (1.24.1)\n",
      "Requirement already satisfied: google-api-python-client>=1.7.8 in e:\\anaconda3\\lib\\site-packages (from firebase-admin) (1.12.8)\n",
      "Requirement already satisfied: google-cloud-core<2.0dev,>=1.4.1 in e:\\anaconda3\\lib\\site-packages (from google-cloud-firestore>=1.4.0; platform_python_implementation != \"PyPy\"->firebase-admin) (1.5.0)\n",
      "Requirement already satisfied: proto-plus>=1.3.0 in e:\\anaconda3\\lib\\site-packages (from google-cloud-firestore>=1.4.0; platform_python_implementation != \"PyPy\"->firebase-admin) (1.13.0)\n",
      "Requirement already satisfied: pytz in e:\\anaconda3\\lib\\site-packages (from google-cloud-firestore>=1.4.0; platform_python_implementation != \"PyPy\"->firebase-admin) (2020.1)\n",
      "Requirement already satisfied: google-resumable-media<2.0dev,>=1.2.0 in e:\\anaconda3\\lib\\site-packages (from google-cloud-storage>=1.18.0->firebase-admin) (1.2.0)\n",
      "Requirement already satisfied: requests<3.0.0dev,>=2.18.0 in e:\\anaconda3\\lib\\site-packages (from google-cloud-storage>=1.18.0->firebase-admin) (2.24.0)\n",
      "Requirement already satisfied: google-auth<2.0dev,>=1.11.0 in e:\\anaconda3\\lib\\site-packages (from google-cloud-storage>=1.18.0->firebase-admin) (1.24.0)\n",
      "Requirement already satisfied: msgpack>=0.5.2 in e:\\anaconda3\\lib\\site-packages (from cachecontrol>=0.12.6->firebase-admin) (1.0.0)\n",
      "Requirement already satisfied: protobuf>=3.12.0 in e:\\anaconda3\\lib\\site-packages (from google-api-core[grpc]<2.0.0dev,>=1.14.0; platform_python_implementation != \"PyPy\"->firebase-admin) (3.14.0)\n",
      "Requirement already satisfied: six>=1.13.0 in e:\\anaconda3\\lib\\site-packages (from google-api-core[grpc]<2.0.0dev,>=1.14.0; platform_python_implementation != \"PyPy\"->firebase-admin) (1.15.0)\n",
      "Requirement already satisfied: setuptools>=34.0.0 in e:\\anaconda3\\lib\\site-packages (from google-api-core[grpc]<2.0.0dev,>=1.14.0; platform_python_implementation != \"PyPy\"->firebase-admin) (50.3.1.post20201107)\n",
      "Requirement already satisfied: googleapis-common-protos<2.0dev,>=1.6.0 in e:\\anaconda3\\lib\\site-packages (from google-api-core[grpc]<2.0.0dev,>=1.14.0; platform_python_implementation != \"PyPy\"->firebase-admin) (1.52.0)\n",
      "Requirement already satisfied: grpcio<2.0dev,>=1.29.0; extra == \"grpc\" in e:\\anaconda3\\lib\\site-packages (from google-api-core[grpc]<2.0.0dev,>=1.14.0; platform_python_implementation != \"PyPy\"->firebase-admin) (1.34.0)\n",
      "Requirement already satisfied: httplib2<1dev,>=0.15.0 in e:\\anaconda3\\lib\\site-packages (from google-api-python-client>=1.7.8->firebase-admin) (0.18.1)\n",
      "Requirement already satisfied: google-auth-httplib2>=0.0.3 in e:\\anaconda3\\lib\\site-packages (from google-api-python-client>=1.7.8->firebase-admin) (0.0.4)\n",
      "Requirement already satisfied: uritemplate<4dev,>=3.0.0 in e:\\anaconda3\\lib\\site-packages (from google-api-python-client>=1.7.8->firebase-admin) (3.0.1)\n",
      "Requirement already satisfied: google-crc32c<2.0dev,>=1.0; python_version >= \"3.5\" in e:\\anaconda3\\lib\\site-packages (from google-resumable-media<2.0dev,>=1.2.0->google-cloud-storage>=1.18.0->firebase-admin) (1.1.0)\n",
      "Requirement already satisfied: idna<3,>=2.5 in e:\\anaconda3\\lib\\site-packages (from requests<3.0.0dev,>=2.18.0->google-cloud-storage>=1.18.0->firebase-admin) (2.10)\n",
      "Requirement already satisfied: certifi>=2017.4.17 in e:\\anaconda3\\lib\\site-packages (from requests<3.0.0dev,>=2.18.0->google-cloud-storage>=1.18.0->firebase-admin) (2020.6.20)\n",
      "Requirement already satisfied: urllib3!=1.25.0,!=1.25.1,<1.26,>=1.21.1 in e:\\anaconda3\\lib\\site-packages (from requests<3.0.0dev,>=2.18.0->google-cloud-storage>=1.18.0->firebase-admin) (1.25.11)\n",
      "Requirement already satisfied: chardet<4,>=3.0.2 in e:\\anaconda3\\lib\\site-packages (from requests<3.0.0dev,>=2.18.0->google-cloud-storage>=1.18.0->firebase-admin) (3.0.4)\n",
      "Requirement already satisfied: cachetools<5.0,>=2.0.0 in e:\\anaconda3\\lib\\site-packages (from google-auth<2.0dev,>=1.11.0->google-cloud-storage>=1.18.0->firebase-admin) (4.2.0)\n",
      "Requirement already satisfied: rsa<5,>=3.1.4; python_version >= \"3.6\" in e:\\anaconda3\\lib\\site-packages (from google-auth<2.0dev,>=1.11.0->google-cloud-storage>=1.18.0->firebase-admin) (4.6)\n",
      "Requirement already satisfied: pyasn1-modules>=0.2.1 in e:\\anaconda3\\lib\\site-packages (from google-auth<2.0dev,>=1.11.0->google-cloud-storage>=1.18.0->firebase-admin) (0.2.8)\n",
      "Requirement already satisfied: pyasn1>=0.1.3 in e:\\anaconda3\\lib\\site-packages (from rsa<5,>=3.1.4; python_version >= \"3.6\"->google-auth<2.0dev,>=1.11.0->google-cloud-storage>=1.18.0->firebase-admin) (0.4.8)\n"
     ]
    }
   ],
   "source": [
    "!pip install firebase-admin"
   ]
  },
  {
   "cell_type": "code",
   "execution_count": 6,
   "metadata": {},
   "outputs": [],
   "source": [
    "# Step 3 - Import Firebase\n",
    "import firebase_admin\n",
    "\n",
    "# Step 4 import credentials\n",
    "from firebase_admin import credentials\n",
    "from firebase_admin import firestore"
   ]
  },
  {
   "cell_type": "code",
   "execution_count": 7,
   "metadata": {},
   "outputs": [
    {
     "data": {
      "text/plain": [
       "<firebase_admin.App at 0x2d0bb9ae0a0>"
      ]
     },
     "execution_count": 7,
     "metadata": {},
     "output_type": "execute_result"
    }
   ],
   "source": [
    "# Step 5 - Download the cred key from the Firebase \n",
    "# Step 6- Place it in your Folder where the Firebase project is happening \n",
    "cred = credentials.Certificate(\"python-firebase-assignment-firebase-adminsdk-bwp7q-ac0bfcf8ds.json\")\n",
    "firebase_admin.initialize_app(cred)"
   ]
  },
  {
   "cell_type": "code",
   "execution_count": 8,
   "metadata": {},
   "outputs": [],
   "source": [
    "db = firestore.client()"
   ]
  },
  {
   "cell_type": "code",
   "execution_count": 15,
   "metadata": {},
   "outputs": [
    {
     "data": {
      "text/plain": [
       "update_time {\n",
       "  seconds: 1608403743\n",
       "  nanos: 702863000\n",
       "}"
      ]
     },
     "execution_count": 15,
     "metadata": {},
     "output_type": "execute_result"
    }
   ],
   "source": [
    "doc_ref = db.collection(u'Hokage').document(u'Members')\n",
    "\n",
    "doc_ref.set({\n",
    "    u'first': u'Uzumaki',\n",
    "    u'last': u'Sarutobi',\n",
    "    u'born': 2001\n",
    "})"
   ]
  },
  {
   "cell_type": "code",
   "execution_count": 20,
   "metadata": {},
   "outputs": [],
   "source": [
    "# Step 7 Enter Data in Firebase\n",
    "def enterDataInDB(name,lastName,age):\n",
    "    doc_ref = db.collection(u'Greatest Hokage').document()    \n",
    "    dit = {}\n",
    "    dit[\"firstName\"] = name\n",
    "    dit[\"lastName\"] = lastName\n",
    "    dit[\"age\"] = age    \n",
    "    doc_ref.set(dit)"
   ]
  },
  {
   "cell_type": "code",
   "execution_count": 22,
   "metadata": {},
   "outputs": [],
   "source": [
    "enterDataInDB(\"Hashirama\",\"Senju\",100)"
   ]
  },
  {
   "cell_type": "code",
   "execution_count": 23,
   "metadata": {},
   "outputs": [],
   "source": [
    "enterDataInDB(\"Tobirama\",\"Senju\",100)"
   ]
  },
  {
   "cell_type": "code",
   "execution_count": 24,
   "metadata": {},
   "outputs": [],
   "source": [
    "enterDataInDB(\"Hiruzen\",\"Sarutobi\",100)"
   ]
  },
  {
   "cell_type": "code",
   "execution_count": 25,
   "metadata": {},
   "outputs": [],
   "source": [
    "enterDataInDB(\"Minato\",\"Namikaze\",100)"
   ]
  },
  {
   "cell_type": "code",
   "execution_count": 26,
   "metadata": {},
   "outputs": [],
   "source": [
    "enterDataInDB(\"Tsunade\",\"Tsunade\",100)"
   ]
  },
  {
   "cell_type": "code",
   "execution_count": 27,
   "metadata": {},
   "outputs": [],
   "source": [
    "enterDataInDB(\"Kakashi\",\"Hatake\",100)"
   ]
  },
  {
   "cell_type": "code",
   "execution_count": 28,
   "metadata": {},
   "outputs": [],
   "source": [
    "enterDataInDB(\"Naruto\",\"Uzumaki\",100)"
   ]
  },
  {
   "cell_type": "code",
   "execution_count": 31,
   "metadata": {},
   "outputs": [
    {
     "name": "stdout",
     "output_type": "stream",
     "text": [
      "ID -  3Ubkkna3Wgyw5ujEpYrR\n",
      "First Name -  Hiruzen\n",
      "Last Name -  Sarutobi\n",
      "Age -  100\n",
      "---------------\n",
      "---------------\n",
      "ID -  F3aL4YoiRGe3CeD05jnH\n",
      "First Name -  Kakashi\n",
      "Last Name -  Hatake\n",
      "Age -  100\n",
      "---------------\n",
      "---------------\n",
      "ID -  RgPoJB58lZizelYY2UN6\n",
      "First Name -  Naruto\n",
      "Last Name -  Uzumaki\n",
      "Age -  100\n",
      "---------------\n",
      "---------------\n",
      "ID -  eOLyq4twJBqQ7JS08udK\n",
      "First Name -  Minato\n",
      "Last Name -  Namikaze\n",
      "Age -  100\n",
      "---------------\n",
      "---------------\n",
      "ID -  ffGymjAxkg63esZOXv7o\n",
      "First Name -  Tsunade\n",
      "Last Name -  Tsunade\n",
      "Age -  100\n",
      "---------------\n",
      "---------------\n",
      "ID -  ftRlpbYqaqdRdB3y2sjj\n",
      "First Name -  Hiruzen\n",
      "Last Name -  Sarutobi\n",
      "Age -  100\n",
      "---------------\n",
      "---------------\n",
      "ID -  voOj8ylMm7KSwEW5mysc\n",
      "First Name -  Tobirama\n",
      "Last Name -  Senju\n",
      "Age -  100\n",
      "---------------\n",
      "---------------\n",
      "ID -  ys7xFCdG8zamEHy8clKt\n",
      "First Name -  Hashirama\n",
      "Last Name -  Senju\n",
      "Age -  100\n",
      "---------------\n",
      "---------------\n"
     ]
    }
   ],
   "source": [
    "# Step 8 - Read data from Firebase DB ( Firestore )\n",
    "docs = db.collection(u'Greatest Hokage').stream()\n",
    "\n",
    "for doc in docs:\n",
    "#     print(f'{doc.id} => {doc.to_dict()}')\n",
    "    \n",
    "    print(\"ID - \", doc.id)\n",
    "    \n",
    "    print(\"First Name - \", doc.to_dict().get(\"firstName\"))\n",
    "    print(\"Last Name - \", doc.to_dict().get(\"lastName\"))\n",
    "    print(\"Age - \", doc.to_dict().get(\"age\") )\n",
    "    \n",
    "    print(\"---------------\")\n",
    "    print(\"---------------\")"
   ]
  },
  {
   "cell_type": "code",
   "execution_count": 32,
   "metadata": {},
   "outputs": [],
   "source": [
    "# Step. 9 - Update a Entry\n",
    "\n",
    "def updateDatainFirebase(uid, updatedAge):\n",
    "    doc_ref = db.collection(u'Greatest Hokage').document(uid)\n",
    "    \n",
    "    doc_ref.update({\"age\":updatedAge})"
   ]
  },
  {
   "cell_type": "code",
   "execution_count": 33,
   "metadata": {},
   "outputs": [],
   "source": [
    "updateDatainFirebase(\"RgPoJB58lZizelYY2UN6\",30)"
   ]
  },
  {
   "cell_type": "code",
   "execution_count": 35,
   "metadata": {},
   "outputs": [],
   "source": [
    "updateDatainFirebase(\"ffGymjAxkg63esZOXv7o\",51)"
   ]
  },
  {
   "cell_type": "code",
   "execution_count": 36,
   "metadata": {},
   "outputs": [],
   "source": [
    "# Step 10 - Delete Data from Firebase \n",
    "\n",
    "def deleteDataInFirebase(uid):\n",
    "    db.collection(u'Greatest Hokage').document(uid).delete()"
   ]
  },
  {
   "cell_type": "code",
   "execution_count": 37,
   "metadata": {},
   "outputs": [],
   "source": [
    "deleteDataInFirebase(\"ys7xFCdG8zamEHy8clKt\")"
   ]
  },
  {
   "cell_type": "code",
   "execution_count": null,
   "metadata": {},
   "outputs": [],
   "source": []
  }
 ],
 "metadata": {
  "kernelspec": {
   "display_name": "Python 3",
   "language": "python",
   "name": "python3"
  },
  "language_info": {
   "codemirror_mode": {
    "name": "ipython",
    "version": 3
   },
   "file_extension": ".py",
   "mimetype": "text/x-python",
   "name": "python",
   "nbconvert_exporter": "python",
   "pygments_lexer": "ipython3",
   "version": "3.8.5"
  }
 },
 "nbformat": 4,
 "nbformat_minor": 4
}

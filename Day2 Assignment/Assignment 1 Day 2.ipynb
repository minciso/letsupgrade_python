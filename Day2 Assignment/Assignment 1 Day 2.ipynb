{
 "cells": [
  {
   "cell_type": "markdown",
   "metadata": {},
   "source": [
    "# Assignment 1 Day 2"
   ]
  },
  {
   "cell_type": "markdown",
   "metadata": {},
   "source": [
    "### 1. Try 5 Different functions of the String in Python"
   ]
  },
  {
   "cell_type": "code",
   "execution_count": 1,
   "metadata": {},
   "outputs": [
    {
     "name": "stdout",
     "output_type": "stream",
     "text": [
      "Angelo\n"
     ]
    }
   ],
   "source": [
    "#Replace String\n",
    "name = \"Michael\"\n",
    "\n",
    "print(name.replace('Michael', 'Angelo'))"
   ]
  },
  {
   "cell_type": "code",
   "execution_count": 2,
   "metadata": {},
   "outputs": [
    {
     "name": "stdout",
     "output_type": "stream",
     "text": [
      "Original string: LetsUpgrade\n",
      "Translated string: Lt2Upgrd\n"
     ]
    }
   ],
   "source": [
    "#Translate String\n",
    "S1 = \"MichaelInciso\"\n",
    "S2 = \"LetsUpgrade20\"\n",
    "S3 = \"Michael\"\n",
    "\n",
    "string = \"LetsUpgrade\"\n",
    "print(\"Original string:\", string)\n",
    "\n",
    "translation = string.maketrans(S1, S2, S3)\n",
    "\n",
    "print(\"Translated string:\", string.translate(translation))"
   ]
  },
  {
   "cell_type": "code",
   "execution_count": 3,
   "metadata": {},
   "outputs": [
    {
     "name": "stdout",
     "output_type": "stream",
     "text": [
      "The count is: 4\n"
     ]
    }
   ],
   "source": [
    "#Count String\n",
    "title = \"Michael Inciso and his Friends\"\n",
    "substring = \"i\"\n",
    "\n",
    "count = title.count(substring)\n",
    "\n",
    "print(\"The count is:\", count)"
   ]
  },
  {
   "cell_type": "code",
   "execution_count": 4,
   "metadata": {},
   "outputs": [
    {
     "name": "stdout",
     "output_type": "stream",
     "text": [
      "Default School:  letsUPGRADE\n",
      "Capitalized School: Letsupgrade\n"
     ]
    }
   ],
   "source": [
    "#Capitalize String\n",
    "school = \"letsUPGRADE\"\n",
    "\n",
    "capitalized_school = school.capitalize()\n",
    "\n",
    "print('Default School: ', school)\n",
    "print('Capitalized School:', capitalized_school)"
   ]
  },
  {
   "cell_type": "code",
   "execution_count": 5,
   "metadata": {},
   "outputs": [
    {
     "name": "stdout",
     "output_type": "stream",
     "text": [
      "True\n",
      "False\n"
     ]
    }
   ],
   "source": [
    "#isdigit String\n",
    "#True if contains number otherwise False \n",
    "year = \"2020\"\n",
    "print(year.isdigit())\n",
    "\n",
    "month = \"December\"\n",
    "print(month.isdigit())"
   ]
  },
  {
   "cell_type": "code",
   "execution_count": null,
   "metadata": {},
   "outputs": [],
   "source": []
  }
 ],
 "metadata": {
  "kernelspec": {
   "display_name": "Python 3",
   "language": "python",
   "name": "python3"
  },
  "language_info": {
   "codemirror_mode": {
    "name": "ipython",
    "version": 3
   },
   "file_extension": ".py",
   "mimetype": "text/x-python",
   "name": "python",
   "nbconvert_exporter": "python",
   "pygments_lexer": "ipython3",
   "version": "3.8.5"
  }
 },
 "nbformat": 4,
 "nbformat_minor": 4
}

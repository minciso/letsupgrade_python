{
 "cells": [
  {
   "cell_type": "markdown",
   "metadata": {},
   "source": [
    "# Assignment 3 Day 2\n",
    "\n",
    "Dictionaries are Python’s implementation of a data structure that is more generally known as an associative array. A dictionary consists of a collection of key-value pairs. Each key-value pair maps the key to its associated value.\n",
    "\n",
    "You can define a dictionary by enclosing a comma-separated list of key-value pairs in curly braces ({}). A colon (:) separates each key from its associated value:"
   ]
  },
  {
   "cell_type": "markdown",
   "metadata": {},
   "source": [
    "### 3. Experiment with at least 5 default functions of Dictionary"
   ]
  },
  {
   "cell_type": "code",
   "execution_count": 1,
   "metadata": {},
   "outputs": [
    {
     "name": "stdout",
     "output_type": "stream",
     "text": [
      "blank = {}\n"
     ]
    }
   ],
   "source": [
    "#Clear Dictionary\n",
    "\n",
    "blank = {1:'blank1', 2:'blank2'}\n",
    "\n",
    "blank.clear()\n",
    "\n",
    "print('blank =', blank)"
   ]
  },
  {
   "cell_type": "code",
   "execution_count": 2,
   "metadata": {},
   "outputs": [
    {
     "name": "stdout",
     "output_type": "stream",
     "text": [
      "Name: Michael\n",
      "Address: Petaling Jaya\n",
      "Mobile#: 0126885467\n",
      "Salary: None\n"
     ]
    }
   ],
   "source": [
    "#Get Dictionary\n",
    "\n",
    "details = {'name': 'Michael', 'blood type': 'O', 'address': 'Petaling Jaya', 'mobile': '0126885467' }\n",
    "\n",
    "print('Name:'   , details.get('name'   ))\n",
    "print('Address:', details.get('address'))\n",
    "print('Mobile#:', details.get('mobile' ))\n",
    "print('Salary:' , details.get('salary' ))"
   ]
  },
  {
   "cell_type": "code",
   "execution_count": 3,
   "metadata": {},
   "outputs": [
    {
     "name": "stdout",
     "output_type": "stream",
     "text": [
      "Orignal:  {1: 'one', 2: 'two', 3: 'three'}\n",
      "Copy   :  {1: 'one', 2: 'two', 3: 'three'}\n"
     ]
    }
   ],
   "source": [
    "#Copy Dictionary\n",
    "\n",
    "number = {1:'one', 2:'two', 3:'three'}\n",
    "new = number.copy()\n",
    "\n",
    "print('Orignal: ', number)\n",
    "print('Copy   : ', new)"
   ]
  },
  {
   "cell_type": "code",
   "execution_count": 4,
   "metadata": {},
   "outputs": [
    {
     "name": "stdout",
     "output_type": "stream",
     "text": [
      "Details =  {'name': 'Michael Inciso', 'class': 'LetsUpgrade', 'subject': 'Python'}\n",
      "Subject =  Python\n"
     ]
    }
   ],
   "source": [
    "#Setdefault Dictionary\n",
    "\n",
    "details = {'name': 'Michael Inciso', 'class': 'LetsUpgrade', 'subject': 'Python'}\n",
    "\n",
    "subject = details.setdefault('subject')\n",
    "print('Details = ',details)\n",
    "print('Subject = ',subject)"
   ]
  },
  {
   "cell_type": "code",
   "execution_count": 5,
   "metadata": {},
   "outputs": [
    {
     "name": "stdout",
     "output_type": "stream",
     "text": [
      "{1: 'one', 2: 'two'}\n",
      "{1: 'one', 2: 'two', 3: 'three'}\n",
      "{1: 'one', 2: 'two', 3: 'three', 4: 'four'}\n"
     ]
    }
   ],
   "source": [
    "#Update Dictionary\n",
    "\n",
    "d = {1: \"one\", 2: \"three\"}\n",
    "d1 = {2: \"two\"}\n",
    "\n",
    "# updates the value of key 2\n",
    "d.update(d1)\n",
    "print(d)\n",
    "\n",
    "d1 = {3: \"three\"}\n",
    "\n",
    "# adds element with key 3\n",
    "d.update(d1)\n",
    "print(d)\n",
    "\n",
    "d2 = {4: \"four\"}\n",
    "\n",
    "# adds element with key 4\n",
    "d.update(d2)\n",
    "print(d)"
   ]
  },
  {
   "cell_type": "code",
   "execution_count": null,
   "metadata": {},
   "outputs": [],
   "source": []
  }
 ],
 "metadata": {
  "kernelspec": {
   "display_name": "Python 3",
   "language": "python",
   "name": "python3"
  },
  "language_info": {
   "codemirror_mode": {
    "name": "ipython",
    "version": 3
   },
   "file_extension": ".py",
   "mimetype": "text/x-python",
   "name": "python",
   "nbconvert_exporter": "python",
   "pygments_lexer": "ipython3",
   "version": "3.8.5"
  }
 },
 "nbformat": 4,
 "nbformat_minor": 4
}

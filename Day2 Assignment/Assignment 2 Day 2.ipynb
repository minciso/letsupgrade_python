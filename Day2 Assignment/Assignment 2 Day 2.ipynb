{
 "cells": [
  {
   "cell_type": "markdown",
   "metadata": {},
   "source": [
    "# Assignment 2 Day 2\n",
    "\n",
    "A list is a data structure in Python that is a mutable, or changeable, ordered sequence of elements. Each element or value that is inside of a list is called an item. Just as strings are defined as characters between quotes, lists are defined by having values between square brackets [ ]."
   ]
  },
  {
   "cell_type": "markdown",
   "metadata": {},
   "source": [
    "### 2. Try 5 Different functions of the List object in Python"
   ]
  },
  {
   "cell_type": "code",
   "execution_count": 1,
   "metadata": {},
   "outputs": [
    {
     "name": "stdout",
     "output_type": "stream",
     "text": [
      "Name: ['Michael Inciso', 'LetsUpgrade']\n"
     ]
    }
   ],
   "source": [
    "#list\n",
    "\n",
    "Name = ['Michael Inciso', 'LetsUpgrade']\n",
    "\n",
    "print('Name:', Name)"
   ]
  },
  {
   "cell_type": "code",
   "execution_count": 2,
   "metadata": {},
   "outputs": [
    {
     "name": "stdout",
     "output_type": "stream",
     "text": [
      "Append List: [2020, 12, 'LetsUpgrade']\n"
     ]
    }
   ],
   "source": [
    "#list Append\n",
    "\n",
    "list = [2020, 12]\n",
    "\n",
    "# Adding LetsUpgrade to list\n",
    "list.append('LetsUpgrade')\n",
    "\n",
    "print('Append List:', list)"
   ]
  },
  {
   "cell_type": "code",
   "execution_count": 3,
   "metadata": {},
   "outputs": [
    {
     "name": "stdout",
     "output_type": "stream",
     "text": [
      "Avengers Members: ['Captain America', 'Iron Man', 'Hulk', 'Thor', 'Hawk Eye', 'Nick Fury', 'Black Widow']\n"
     ]
    }
   ],
   "source": [
    "#list Extend\n",
    "\n",
    "AvengersMembers = ['Captain America', 'Iron Man', 'Hulk', 'Thor']\n",
    "AdditionalMembers = ['Hawk Eye', 'Nick Fury', 'Black Widow']\n",
    "\n",
    "AvengersMembers.extend(AdditionalMembers)\n",
    "\n",
    "print('Avengers Members:', AvengersMembers)"
   ]
  },
  {
   "cell_type": "code",
   "execution_count": 4,
   "metadata": {},
   "outputs": [
    {
     "name": "stdout",
     "output_type": "stream",
     "text": [
      "Updated Position: ['first', 'middle', 'last']\n"
     ]
    }
   ],
   "source": [
    "#list Insert\n",
    "\n",
    "position = ['first', 'last']\n",
    "\n",
    "position.insert(1, 'middle')\n",
    "\n",
    "print('Updated Position:', position)"
   ]
  },
  {
   "cell_type": "code",
   "execution_count": 5,
   "metadata": {},
   "outputs": [
    {
     "name": "stdout",
     "output_type": "stream",
     "text": [
      "Updated Avengers Members:  ['Captain America', 'Hulk', 'Thor']\n"
     ]
    }
   ],
   "source": [
    "#list Remove\n",
    "\n",
    "AvengersMembers = ['Captain America', 'Iron Man', 'Hulk', 'Thor']\n",
    "\n",
    "AvengersMembers.remove('Iron Man')\n",
    "\n",
    "print('Updated Avengers Members: ', AvengersMembers)"
   ]
  },
  {
   "cell_type": "code",
   "execution_count": null,
   "metadata": {},
   "outputs": [],
   "source": []
  }
 ],
 "metadata": {
  "kernelspec": {
   "display_name": "Python 3",
   "language": "python",
   "name": "python3"
  },
  "language_info": {
   "codemirror_mode": {
    "name": "ipython",
    "version": 3
   },
   "file_extension": ".py",
   "mimetype": "text/x-python",
   "name": "python",
   "nbconvert_exporter": "python",
   "pygments_lexer": "ipython3",
   "version": "3.8.5"
  }
 },
 "nbformat": 4,
 "nbformat_minor": 4
}

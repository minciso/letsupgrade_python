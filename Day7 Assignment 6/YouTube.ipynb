{
 "cells": [
  {
   "cell_type": "code",
   "execution_count": 1,
   "metadata": {},
   "outputs": [
    {
     "name": "stdout",
     "output_type": "stream",
     "text": [
      "Requirement already satisfied: pytube in e:\\anaconda3\\lib\\site-packages (10.0.0)\n",
      "Requirement already satisfied: typing-extensions in e:\\anaconda3\\lib\\site-packages (from pytube) (3.7.4.3)\n",
      "Note: you may need to restart the kernel to use updated packages.\n"
     ]
    }
   ],
   "source": [
    "pip install pytube"
   ]
  },
  {
   "cell_type": "markdown",
   "metadata": {},
   "source": [
    "# Question 1\n",
    "#### Create a YouTube video downloader and upload it in Github."
   ]
  },
  {
   "cell_type": "code",
   "execution_count": 10,
   "metadata": {},
   "outputs": [],
   "source": [
    "from pytube import YouTube\n",
    "import os\n",
    "from tkinter import *\n",
    "\n",
    "root=Tk()\n",
    "root.geometry('600x200')\n",
    "root.title('Youtube Video Downloader')\n",
    "\n",
    "\n",
    "Label_1=Label(root,text=\"Paste The Youtube Link Here\", font=(\"bold\",20))\n",
    "Label_1.place(x=120,y=20)\n",
    "\n",
    "\n",
    "mylink=StringVar()\n",
    "\n",
    "pastelink=Entry(root, width=60, textvariable=mylink)\n",
    "pastelink.place(x=140, y=80)\n",
    "\n",
    "#link=\"https://www.youtube.com/watch?v=s7N9o_nyHbg\"\n",
    "\n",
    "def downloadVideo():\n",
    "    x=str(mylink.get())\n",
    "    ytvideo=YouTube(x).streams.filter(progressive=True, file_extension='mp4').order_by('resolution').desc().first()\n",
    "    if not os.path.exists('E:/YouTubeDownload'):\n",
    "        os.makedirs('E:/YouTubeDownload')\n",
    "    ytvideo.download('E:/YouTubeDownload') \n",
    "\n",
    "Button(root,text=\"Download Video\", width=20, bg='green',fg=\"white\", command=downloadVideo).place(x=220, y=110)\n",
    "\n",
    "root.mainloop()"
   ]
  },
  {
   "cell_type": "code",
   "execution_count": null,
   "metadata": {},
   "outputs": [],
   "source": []
  }
 ],
 "metadata": {
  "kernelspec": {
   "display_name": "Python 3",
   "language": "python",
   "name": "python3"
  },
  "language_info": {
   "codemirror_mode": {
    "name": "ipython",
    "version": 3
   },
   "file_extension": ".py",
   "mimetype": "text/x-python",
   "name": "python",
   "nbconvert_exporter": "python",
   "pygments_lexer": "ipython3",
   "version": "3.8.5"
  }
 },
 "nbformat": 4,
 "nbformat_minor": 4
}
